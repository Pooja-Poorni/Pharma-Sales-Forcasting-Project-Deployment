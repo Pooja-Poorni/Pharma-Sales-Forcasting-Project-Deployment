{
 "cells": [
  {
   "cell_type": "code",
   "execution_count": 35,
   "id": "ac06aaee",
   "metadata": {},
   "outputs": [
    {
     "name": "stdout",
     "output_type": "stream",
     "text": [
      " * Serving Flask app '__main__' (lazy loading)\n",
      " * Environment: production\n",
      "\u001b[31m   WARNING: This is a development server. Do not use it in a production deployment.\u001b[0m\n",
      "\u001b[2m   Use a production WSGI server instead.\u001b[0m\n",
      " * Debug mode: off\n"
     ]
    },
    {
     "name": "stderr",
     "output_type": "stream",
     "text": [
      " * Running on http://127.0.0.1:5000/ (Press CTRL+C to quit)\n",
      "127.0.0.1 - - [20/Jun/2022 17:38:07] \"GET / HTTP/1.1\" 200 -\n",
      "127.0.0.1 - - [20/Jun/2022 17:38:07] \"GET /static/css/styles.css HTTP/1.1\" 404 -\n",
      "C:\\Users\\VARSHNEY\\anaconda3\\lib\\site-packages\\statsmodels\\tsa\\statespace\\kalman_filter.py:2290: ValueWarning: Dynamic prediction specified to begin during out-of-sample forecasting period, and so has no effect.\n",
      "  warn('Dynamic prediction specified to begin during'\n",
      "127.0.0.1 - - [20/Jun/2022 17:38:19] \"POST /predict HTTP/1.1\" 200 -\n",
      "127.0.0.1 - - [20/Jun/2022 17:38:19] \"GET /static/css/styles.css HTTP/1.1\" 404 -\n"
     ]
    }
   ],
   "source": [
    "from flask import Flask, redirect, url_for, render_template, request\n",
    "import pickle\n",
    "from datetime import datetime\n",
    "\n",
    "# load the model from disk\n",
    "loaded_model = pickle.load(open('my_file_try2.pkl', 'rb'))\n",
    "app = Flask(__name__, template_folder=\"template\")\n",
    "\n",
    "@app.route('/')\n",
    "def welcome():\n",
    "    return render_template('indexTryOne.html')\n",
    "\n",
    "# Result Checker submit HTML page\n",
    "@app.route('/predict',methods=['POST'])\n",
    "def predict():\n",
    "    from_date = \"\"\n",
    "    to_date = \"\"\n",
    "    \n",
    "    str_d1 = '2019-10-08'\n",
    "    from_date = request.form['fromdate']\n",
    "    \n",
    "    d1 = datetime.strptime(str_d1, \"%Y-%m-%d\")\n",
    "    d2 = datetime.strptime(from_date, \"%Y-%m-%d\")\n",
    "    \n",
    "    delta_start = d2 - d1\n",
    "    startindex_no = 2106 + delta_start.days\n",
    "    \n",
    "    to_date = request.form['todate']\n",
    "    d3 = datetime.strptime(to_date, \"%Y-%m-%d\")\n",
    "\n",
    "    delta_end = d3 - d1\n",
    "    endindex_no = 2106 + delta_end.days\n",
    "      \n",
    "    output = loaded_model.predict(start = startindex_no, end = endindex_no, dynamic = True)\n",
    "    my_prediction = output.tolist()\n",
    "    \n",
    "    return render_template('result.html',prediction = my_prediction)\n",
    "\n",
    "\n",
    "if __name__ == '__main__':\n",
    "    app.run()"
   ]
  },
  {
   "cell_type": "code",
   "execution_count": null,
   "id": "167c998d",
   "metadata": {},
   "outputs": [],
   "source": []
  }
 ],
 "metadata": {
  "kernelspec": {
   "display_name": "Python 3 (ipykernel)",
   "language": "python",
   "name": "python3"
  },
  "language_info": {
   "codemirror_mode": {
    "name": "ipython",
    "version": 3
   },
   "file_extension": ".py",
   "mimetype": "text/x-python",
   "name": "python",
   "nbconvert_exporter": "python",
   "pygments_lexer": "ipython3",
   "version": "3.8.8"
  },
  "toc": {
   "base_numbering": 1,
   "nav_menu": {},
   "number_sections": true,
   "sideBar": true,
   "skip_h1_title": false,
   "title_cell": "Table of Contents",
   "title_sidebar": "Contents",
   "toc_cell": false,
   "toc_position": {},
   "toc_section_display": true,
   "toc_window_display": false
  }
 },
 "nbformat": 4,
 "nbformat_minor": 5
}
